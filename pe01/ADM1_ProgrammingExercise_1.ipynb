{
  "cells": [
    {
      "cell_type": "markdown",
      "metadata": {
        "colab_type": "text",
        "id": "view-in-github"
      },
      "source": [
        "<a href=\"https://colab.research.google.com/github/saschimi9/adm-1/blob/master/pe01/ADM1_ProgrammingExercise_1.ipynb\" target=\"_parent\"><img src=\"https://colab.research.google.com/assets/colab-badge.svg\" alt=\"Open In Colab\"/></a>"
      ]
    },
    {
      "cell_type": "code",
      "execution_count": 1,
      "metadata": {
        "colab": {
          "base_uri": "https://localhost:8080/"
        },
        "id": "vULM94XdPxxx",
        "outputId": "417a9db9-4b72-44c6-f96c-e7b997448a37"
      },
      "outputs": [],
      "source": [
        "import numpy as np\n",
        "import gurobipy as grp\n",
        "from gurobipy import GRB"
      ]
    },
    {
      "cell_type": "markdown",
      "metadata": {
        "id": "59u5PiOKgC8H"
      },
      "source": [
        "Recall the **Scheduling Problem on Parallel Machines** from the Exercise Session 2. In this programming exercise, we will extend the time-indexed formulation to the case of non-identical machines. In this setting (known as **unrelated machines** in the litterature on scheduling theory), the processing time of a job depends on the machine on which it is executed; Each job has to be executed on exactly one machine, and the execution of job $j\\in J=\\{0,\\ldots,n-1\\}$ on machine $i\\in M=\\{0,\\ldots,m-1\\}$ requires $p_{i,j}\\in\\mathbb{N}$ units of processing time. Each machine can process at most one job at a time, and the jobs must be exectuded *non-preemtively*, i.e., jobs cannot be interrupted once started.\n",
        "\n",
        "**Task:** Given some nonnegative weights $w_j$ ($\\forall j\\in J$) and some integer processing times $p_{i,j}$ ($\\forall i,j \\in M\\times J$), find a *schedule* minimizing the weighted sum of completion time $\\sum_{j\\in J} w_j C_j$. Here, a schedule must specify the starting time $S_j\\geq 0$ of each job $j\\in J$, and the machine $M_j\\in M$ on which it is executed.\n",
        "\n",
        "Generate some unique data for the problem using the following cell, by replacing GROUP by the number of your homework group. Then, formulate the scheduling problem as an IP by adapting the **time-indexed formulation** of the Exercise Session 2. You can either use the gurobi framework that is pre-installed in this notebook, or download the data as a .json file and solve the problem with your favorite solver or interface (cvxpy with any solver, pyscipopt, ...).\n",
        "\n",
        "Return the solution via ISIS by outputing the solution in the following form: \n",
        "\n",
        "``OPT_IP {0: (M0,S0),, 1: (M1,S1), 2: (M2,S2), ... }``,\n",
        "\n",
        "where\n",
        "  * ``OPT_IP`` is the value of the optimal objective function of the problem, i.e., $\\sum_{j\\in J} w_j C_j$\n",
        "  * ``Sj`` is the starting time of job $j$, for $j=0,...,n-1$\n",
        "  * ``Mj`` is the machine executing job $j$, for $j=0,...,n-1$.\n",
        "\n",
        "**Hint** You will need to introduce variables ``x[i,j,t]`` for several triples $(i,j,t)$ to indicate that job $j$ starts (or completes, as you like) on machine $i$ at time $t$. A bound for the time horizon of the problem is $T=\\lceil (\\frac{n}{m}+1) p_{\\max} \\rceil$, where $p_{\\max}$ is an upper bound for all processing times (*why?*). \n"
      ]
    },
    {
      "cell_type": "code",
      "execution_count": 2,
      "metadata": {
        "colab": {
          "base_uri": "https://localhost:8080/",
          "height": 54
        },
        "id": "n2kT9B7qP-56",
        "outputId": "c79eee8c-53c4-4583-8485-5651d5a34646"
      },
      "outputs": [
        {
          "data": {
            "text/plain": [
              "\"\\nfrom google.colab import files\\nimport json\\n\\ndata = {'n':n,\\n        'm':m,\\n        'pmax': pmax,\\n        'p': {i: {j: int(p[i,j]) for j in range(n)} for i in range(m)},\\n        'w': {j: int(w[j]) for j in range(n)}\\n        }\\nwith open('ADM1_prog_ex2_data.json','w') as fp:\\n  json.dump(data, fp, indent=4)\\n\\nfiles.download('ADM1_prog_ex2_data.json')\\n\""
            ]
          },
          "execution_count": 2,
          "metadata": {},
          "output_type": "execute_result"
        }
      ],
      "source": [
        "\n",
        "\n",
        "my_group = 9\n",
        "\n",
        "#function to get a seed for your group # DO NOT CHANGE THIS FUNCTION !\n",
        "def get_seed_for_my_group(group_number):\n",
        "  return list(range(1,41))[group_number]\n",
        "\n",
        "\n",
        "#seed the pseudo-random number generator with your group number\n",
        "seed = get_seed_for_my_group(my_group)\n",
        "np.random.seed(seed)\n",
        "\n",
        "#generate the data\n",
        "n=14                                  # number of jobs\n",
        "m=4                                   # number of machines\n",
        "pmax=7                                # processing times are between 1 and pmax\n",
        "w = np.random.randint(1,101,n)        # w[j] is the weight of job j\n",
        "p = np.random.randint(1,pmax+1,(m,n)) # p[i,j] is the processing time \n",
        "                                      #        of job j on machine i         \n",
        "\n",
        "#uncomment the following block to save the data as a .json file that you can\n",
        "#use with your favorite software\n",
        "\"\"\"\n",
        "from google.colab import files\n",
        "import json\n",
        "\n",
        "data = {'n':n,\n",
        "        'm':m,\n",
        "        'pmax': pmax,\n",
        "        'p': {i: {j: int(p[i,j]) for j in range(n)} for i in range(m)},\n",
        "        'w': {j: int(w[j]) for j in range(n)}\n",
        "        }\n",
        "with open('ADM1_prog_ex2_data.json','w') as fp:\n",
        "  json.dump(data, fp, indent=4)\n",
        "\n",
        "files.download('ADM1_prog_ex2_data.json')\n",
        "\"\"\""
      ]
    },
    {
      "cell_type": "markdown",
      "metadata": {
        "id": "DhzrqcxMEWYA"
      },
      "source": [
        "Here is a minimal working example to introduce the syntax. In this program, we find $\\max\\{x_1+x_2+y\\ \\colon \\ y=0.5,\\ x_1,x_2\\leq 1\\}$.\n",
        "\n",
        "Replace ``MAXIMIZE`` by ``MINIMIZE``. What do you expect will happen? What happens?"
      ]
    },
    {
      "cell_type": "code",
      "execution_count": 3,
      "metadata": {
        "colab": {
          "base_uri": "https://localhost:8080/"
        },
        "id": "IEg4hHjfep9N",
        "outputId": "c0a74f58-5ef9-49f7-cde7-c9247b8eb8ad"
      },
      "outputs": [
        {
          "name": "stdout",
          "output_type": "stream",
          "text": [
            "Restricted license - for non-production use only - expires 2024-10-28\n",
            "Gurobi Optimizer version 10.0.0 build v10.0.0rc2 (linux64)\n",
            "\n",
            "CPU model: Intel(R) Core(TM) i5-7200U CPU @ 2.50GHz, instruction set [SSE2|AVX|AVX2]\n",
            "Thread count: 2 physical cores, 4 logical processors, using up to 4 threads\n",
            "\n",
            "Optimize a model with 3 rows, 3 columns and 3 nonzeros\n",
            "Model fingerprint: 0xd75aac66\n",
            "Variable types: 1 continuous, 2 integer (0 binary)\n",
            "Coefficient statistics:\n",
            "  Matrix range     [1e+00, 1e+00]\n",
            "  Objective range  [1e+00, 1e+00]\n",
            "  Bounds range     [0e+00, 0e+00]\n",
            "  RHS range        [5e-01, 1e+00]\n",
            "Presolve removed 3 rows and 3 columns\n",
            "Presolve time: 0.00s\n",
            "Presolve: All rows and columns removed\n",
            "\n",
            "Explored 0 nodes (0 simplex iterations) in 0.03 seconds (0.00 work units)\n",
            "Thread count was 1 (of 4 available processors)\n",
            "\n",
            "Solution count 1: 2.5 \n",
            "\n",
            "Optimal solution found (tolerance 1.00e-04)\n",
            "Best objective 2.500000000000e+00, best bound 2.500000000000e+00, gap 0.0000%\n"
          ]
        }
      ],
      "source": [
        "M = grp.Model(\"Test\")#name of model\n",
        "\n",
        "# Variables\n",
        "x= M.addVars(2, vtype=GRB.INTEGER)#the first input is the number of coefficients of variable\n",
        "y=M.addVars(1, vtype=GRB.CONTINUOUS)#real number\n",
        "\n",
        "\n",
        "# Objective function\n",
        "M.setObjective(x[0]+x[1]+y[0], \\\n",
        "GRB.MAXIMIZE)\n",
        "\n",
        "# Constraints\n",
        "M.addConstr(y[0]==0.5)\n",
        "M.addConstrs((x[i] <= 1 for i in range(2)), name='c') #note that name is optional.\n",
        "\n",
        "\n",
        "M.optimize()\n"
      ]
    },
    {
      "cell_type": "code",
      "execution_count": 12,
      "metadata": {},
      "outputs": [],
      "source": [
        "M = grp.Model(\"Time-indexed parallel machine job scheduling\")#name of model\n",
        "\n",
        "T = int(np.ceil(pmax*(n/m + 1)))\n",
        "# Variables\n",
        "x = M.addVars(n, T, m, vtype=GRB.BINARY)\n",
        "\n",
        "# Constraints\n",
        "for m_tild in range(m):\n",
        "    for j in range(n):\n",
        "        sumlist = [x[j, t, m_tild] for t in range(p[m_tild, j], T)]\n",
        "        M.addConstr(grp.quicksum(sumlist) == 1, name=f'Job {j} single start')\n",
        "\n",
        "for m_tild in range(m):\n",
        "    for t in range(T):\n",
        "        sumlist = []\n",
        "        for j in range(n):\n",
        "            for s in range(t, min(t + p[m_tild, j]-1, T)):\n",
        "                sumlist.append(x[j, s, m_tild])\n",
        "        M.addConstr(grp.quicksum(sumlist) <= 1, name=f'One job at each time step of machine {m}')\n",
        "\n",
        "# Objective function\n",
        "cost = 0\n",
        "for m_tild in range(m):\n",
        "    for t in range(T):\n",
        "        for j in range(n):\n",
        "            cost += w[j]*t*x[j, t, m_tild]     \n",
        "M.setObjective(cost, GRB.MINIMIZE)"
      ]
    },
    {
      "cell_type": "code",
      "execution_count": 13,
      "metadata": {},
      "outputs": [
        {
          "name": "stdout",
          "output_type": "stream",
          "text": [
            "Gurobi Optimizer version 10.0.0 build v10.0.0rc2 (linux64)\n",
            "\n",
            "CPU model: Intel(R) Core(TM) i5-7200U CPU @ 2.50GHz, instruction set [SSE2|AVX|AVX2]\n",
            "Thread count: 2 physical cores, 4 logical processors, using up to 4 threads\n",
            "\n",
            "Optimize a model with 184 rows, 1792 columns and 6961 nonzeros\n",
            "Model fingerprint: 0xa80c6ca1\n",
            "Variable types: 0 continuous, 1792 integer (1792 binary)\n",
            "Coefficient statistics:\n",
            "  Matrix range     [1e+00, 1e+00]\n",
            "  Objective range  [1e+00, 3e+03]\n",
            "  Bounds range     [1e+00, 1e+00]\n",
            "  RHS range        [1e+00, 1e+00]\n",
            "Presolve removed 16 rows and 484 columns\n",
            "Presolve time: 0.05s\n",
            "Presolved: 168 rows, 1308 columns, 6030 nonzeros\n",
            "Variable types: 0 continuous, 1308 integer (1308 binary)\n",
            "\n",
            "Root relaxation: infeasible, 249 iterations, 0.01 seconds (0.00 work units)\n",
            "\n",
            "    Nodes    |    Current Node    |     Objective Bounds      |     Work\n",
            " Expl Unexpl |  Obj  Depth IntInf | Incumbent    BestBd   Gap | It/Node Time\n",
            "\n",
            "     0     0 infeasible    0               - infeasible      -     -    0s\n",
            "\n",
            "Explored 1 nodes (249 simplex iterations) in 0.11 seconds (0.02 work units)\n",
            "Thread count was 4 (of 4 available processors)\n",
            "\n",
            "Solution count 0\n",
            "\n",
            "Model is infeasible\n",
            "Best objective -, best bound -, gap -\n",
            "M is infeasible\n"
          ]
        },
        {
          "ename": "SystemExit",
          "evalue": "0",
          "output_type": "error",
          "traceback": [
            "An exception has occurred, use %tb to see the full traceback.\n",
            "\u001b[0;31mSystemExit\u001b[0m\u001b[0;31m:\u001b[0m 0\n"
          ]
        },
        {
          "name": "stderr",
          "output_type": "stream",
          "text": [
            "/home/saschimi/projects/adm-1/adm/lib/python3.10/site-packages/IPython/core/interactiveshell.py:3441: UserWarning: To exit: use 'exit', 'quit', or Ctrl-D.\n",
            "  warn(\"To exit: use 'exit', 'quit', or Ctrl-D.\", stacklevel=1)\n"
          ]
        }
      ],
      "source": [
        "M.optimize()\n",
        "if M.Status == GRB.OPTIMAL:\n",
        "    print('Optimal objective: %g' % M.ObjVal)\n",
        "elif M.Status == GRB.INF_OR_UNBD:\n",
        "    print('M is infeasible or unbounded')\n",
        "    sys.exit(0)\n",
        "elif M.Status == GRB.INFEASIBLE:\n",
        "    print('M is infeasible')\n",
        "    sys.exit(0)\n",
        "elif M.Status == GRB.UNBOUNDED:\n",
        "    print('M is unbounded')\n",
        "    sys.exit(0)\n",
        "else:\n",
        "    print('Optimization ended with status %d' % M.Status)\n",
        "    sys.exit(0)"
      ]
    },
    {
      "cell_type": "markdown",
      "metadata": {
        "id": "ajRdDsnRfwlp"
      },
      "source": [
        "You can implement you IP/LP in the following cells."
      ]
    }
  ],
  "metadata": {
    "colab": {
      "include_colab_link": true,
      "provenance": []
    },
    "kernelspec": {
      "display_name": "Python 3.10.6 ('adm': venv)",
      "language": "python",
      "name": "python3"
    },
    "language_info": {
      "codemirror_mode": {
        "name": "ipython",
        "version": 3
      },
      "file_extension": ".py",
      "mimetype": "text/x-python",
      "name": "python",
      "nbconvert_exporter": "python",
      "pygments_lexer": "ipython3",
      "version": "3.10.6"
    },
    "vscode": {
      "interpreter": {
        "hash": "3cb9fb08b6f3458b8efe2c8e0c090ac02ec6f97007c1dbbfe904d2911cbc0b9f"
      }
    }
  },
  "nbformat": 4,
  "nbformat_minor": 0
}
